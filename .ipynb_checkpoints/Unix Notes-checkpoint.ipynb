{
 "cells": [
  {
   "cell_type": "markdown",
   "metadata": {},
   "source": [
    "# header\n",
    "## header2\n",
    "### header3\n",
    "#### header4\n",
    "##### header5\n"
   ]
  },
  {
   "cell_type": "markdown",
   "metadata": {},
   "source": [
    ">This is a blockquote"
   ]
  },
  {
   "cell_type": "markdown",
   "metadata": {},
   "source": [
    "``` code being added\n",
    "```"
   ]
  },
  {
   "cell_type": "markdown",
   "metadata": {},
   "source": [
    "Two sentences can be broken using the <br> br tag."
   ]
  },
  {
   "cell_type": "markdown",
   "metadata": {},
   "source": [
    "That is **unbelievable!**"
   ]
  },
  {
   "cell_type": "markdown",
   "metadata": {},
   "source": [
    "Wait till you see *this*! In short, two asterisks for bold, and one for italic."
   ]
  },
  {
   "cell_type": "markdown",
   "metadata": {},
   "source": [
    "1. Manchester United\n",
    "2. Chelsea\n",
    "3. Arsenal\n",
    "4. Tottenham Hotspur\n",
    "5. Manchester City\n",
    "6. Liverpool"
   ]
  },
  {
   "cell_type": "markdown",
   "metadata": {},
   "source": [
    "- Marcus Rashford\n",
    "- Kai Havertz\n",
    "- Pierre-Emerick Aubameyang\n",
    "- Gareth Bale\n",
    "- Sergio Aguero\n",
    "- Thiago Alcantara\n",
    "- James Rodriguez"
   ]
  },
  {
   "cell_type": "markdown",
   "metadata": {},
   "source": [
    "To summarize,\n",
    "\n",
    "# is for headers\n",
    "> is for blockquotes\n",
    "backtick is for code. 3 of them\n",
    "<br> breaks the line\n",
    "** is for bold, * for italic\n",
    "1, 2, 3 for ordered list\n",
    "- for unordered list\n"
   ]
  },
  {
   "cell_type": "code",
   "execution_count": null,
   "metadata": {
    "collapsed": true
   },
   "outputs": [],
   "source": []
  }
 ],
 "metadata": {
  "kernelspec": {
   "display_name": "Python 3",
   "language": "python",
   "name": "python3"
  },
  "language_info": {
   "codemirror_mode": {
    "name": "ipython",
    "version": 3
   },
   "file_extension": ".py",
   "mimetype": "text/x-python",
   "name": "python",
   "nbconvert_exporter": "python",
   "pygments_lexer": "ipython3",
   "version": "3.6.3"
  }
 },
 "nbformat": 4,
 "nbformat_minor": 2
}
